{
 "cells": [
  {
   "cell_type": "code",
   "execution_count": 41,
   "id": "a663891d",
   "metadata": {},
   "outputs": [
    {
     "name": "stdout",
     "output_type": "stream",
     "text": [
      "          lp   v        gtt       gtn       ggn       ts       tp     hpt48  \\\n",
      "0      1.138   3    289.964  1349.489  6677.380    7.584    7.584   464.006   \n",
      "1      2.088   6   6960.180  1376.166  6828.469   28.204   28.204   635.401   \n",
      "2      3.144   9   8379.229  1386.757  7111.811   60.358   60.358   606.002   \n",
      "3      4.161  12  14724.395  1547.465  7792.630  113.774  113.774   661.471   \n",
      "4      5.140  15  21636.432  1924.313  8494.777  175.306  175.306   731.494   \n",
      "...      ...  ..        ...       ...       ...      ...      ...       ...   \n",
      "11929  5.140  15  21624.934  1924.342  8470.013  175.239  175.239   681.658   \n",
      "11930  6.175  18  29763.213  2306.745  8800.352  245.954  245.954   747.405   \n",
      "11931  7.148  21  39003.867  2678.052  9120.889  332.389  332.389   796.457   \n",
      "11932  8.206  24  50992.579  3087.434  9300.274  438.024  438.024   892.945   \n",
      "11933  9.300  27  72775.130  3560.400  9742.950  644.880  644.880  1038.411   \n",
      "\n",
      "       gtt1     gtt2  hpp48   gtp1    gtp2   pexh     tic     mf  gtc_coef  \\\n",
      "0       288  550.563  1.096  0.998   5.947  1.019   7.137  0.082      0.95   \n",
      "1       288  581.658  1.331  0.998   7.282  1.019  10.655  0.287      0.95   \n",
      "2       288  587.587  1.389  0.998   7.574  1.020  13.086  0.259      0.95   \n",
      "3       288  613.851  1.658  0.998   9.007  1.022  18.109  0.358      0.95   \n",
      "4       288  645.642  2.078  0.998  11.197  1.026  26.373  0.522      0.95   \n",
      "...     ...      ...    ...    ...     ...    ...     ...    ...       ...   \n",
      "11929   288  628.950  2.087  0.998  10.990  1.027  23.803  0.471      1.00   \n",
      "11930   288  658.853  2.512  0.998  13.109  1.031  32.671  0.647      1.00   \n",
      "11931   288  680.393  2.982  0.998  15.420  1.036  42.104  0.834      1.00   \n",
      "11932   288  722.029  3.594  0.998  18.293  1.043  58.064  1.149      1.00   \n",
      "11933   288  767.595  4.531  0.998  22.464  1.052  86.067  1.704      1.00   \n",
      "\n",
      "       gtt_coef  \n",
      "0         0.975  \n",
      "1         0.975  \n",
      "2         0.975  \n",
      "3         0.975  \n",
      "4         0.975  \n",
      "...         ...  \n",
      "11929     1.000  \n",
      "11930     1.000  \n",
      "11931     1.000  \n",
      "11932     1.000  \n",
      "11933     1.000  \n",
      "\n",
      "[11934 rows x 18 columns]\n"
     ]
    }
   ],
   "source": [
    "from pandas.plotting import scatter_matrix\n",
    "import matplotlib.pyplot as plt\n",
    "import pandas as pd\n",
    "from sklearn.linear_model import LinearRegression\n",
    "import statsmodels.api as sm \n",
    "from sklearn.metrics import mean_squared_error, r2_score\n",
    "import numpy as np\n",
    "from sklearn.metrics import confusion_matrix\n",
    "\n",
    "naval_prop_data = pd.read_csv('data/naval_prop_plants.csv')\n",
    "print(naval_prop_data)"
   ]
  },
  {
   "cell_type": "code",
   "execution_count": 42,
   "id": "c311bbb6",
   "metadata": {},
   "outputs": [
    {
     "name": "stdout",
     "output_type": "stream",
     "text": [
      "                 lp             v           gtt           gtn           ggn  \\\n",
      "count  11934.000000  11934.000000  11934.000000  11934.000000  11934.000000   \n",
      "mean       5.166667     15.000000  27247.498685   2136.289256   8200.947312   \n",
      "std        2.626388      7.746291  22148.613155    774.083881   1091.315507   \n",
      "min        1.138000      3.000000    253.547000   1307.675000   6589.002000   \n",
      "25%        3.144000      9.000000   8375.883750   1386.758000   7058.324000   \n",
      "50%        5.140000     15.000000  21630.659000   1924.326000   8482.081500   \n",
      "75%        7.148000     21.000000  39001.426750   2678.079000   9132.606000   \n",
      "max        9.300000     27.000000  72784.872000   3560.741000   9797.103000   \n",
      "\n",
      "                 ts            tp         hpt48     gtt1          gtt2  \\\n",
      "count  11934.000000  11934.000000  11934.000000  11934.0  11934.000000   \n",
      "mean     227.335768    227.335768    735.495446    288.0    646.215331   \n",
      "std      200.495889    200.495889    173.680552      0.0     72.675882   \n",
      "min        5.304000      5.304000    442.364000    288.0    540.442000   \n",
      "25%       60.317000     60.317000    589.872750    288.0    578.092250   \n",
      "50%      175.268000    175.268000    706.038000    288.0    637.141500   \n",
      "75%      332.364750    332.364750    834.066250    288.0    693.924500   \n",
      "max      645.249000    645.249000   1115.797000    288.0    789.094000   \n",
      "\n",
      "              hpp48          gtp1          gtp2          pexh           tic  \\\n",
      "count  11934.000000  1.193400e+04  11934.000000  11934.000000  11934.000000   \n",
      "mean       2.352963  9.980000e-01     12.297123      1.029474     33.641261   \n",
      "std        1.084770  2.533635e-13      5.337448      0.010390     25.841363   \n",
      "min        1.093000  9.980000e-01      5.828000      1.019000      0.000000   \n",
      "25%        1.389000  9.980000e-01      7.447250      1.020000     13.677500   \n",
      "50%        2.083000  9.980000e-01     11.092000      1.026000     25.276500   \n",
      "75%        2.981000  9.980000e-01     15.658000      1.036000     44.552500   \n",
      "max        4.560000  9.980000e-01     23.140000      1.052000     92.556000   \n",
      "\n",
      "                 mf     gtc_coef    gtt_coef  \n",
      "count  11934.000000  11934.00000  11934.0000  \n",
      "mean       0.662440      0.97500      0.9875  \n",
      "std        0.507132      0.01472      0.0075  \n",
      "min        0.068000      0.95000      0.9750  \n",
      "25%        0.246000      0.96200      0.9810  \n",
      "50%        0.496000      0.97500      0.9875  \n",
      "75%        0.882000      0.98800      0.9940  \n",
      "max        1.832000      1.00000      1.0000  \n"
     ]
    }
   ],
   "source": [
    "print(naval_prop_data.describe())"
   ]
  },
  {
   "cell_type": "code",
   "execution_count": 43,
   "id": "23ac6c27",
   "metadata": {},
   "outputs": [
    {
     "name": "stdout",
     "output_type": "stream",
     "text": [
      "                    lp             v       gtt       gtn       ggn        ts  \\\n",
      "lp        1.000000e+00  9.999152e-01  0.961025  0.962090  0.986017  0.959241   \n",
      "v         9.999152e-01  1.000000e+00  0.958243  0.960412  0.986621  0.956371   \n",
      "gtt       9.610254e-01  9.582428e-01  1.000000  0.989723  0.932993  0.999177   \n",
      "gtn       9.620898e-01  9.604117e-01  0.989723  1.000000  0.943038  0.988625   \n",
      "ggn       9.860173e-01  9.866210e-01  0.932993  0.943038  1.000000  0.929593   \n",
      "ts        9.592410e-01  9.563708e-01  0.999177  0.988625  0.929593  1.000000   \n",
      "tp        9.592410e-01  9.563708e-01  0.999177  0.988625  0.929593  1.000000   \n",
      "hpt48     9.612418e-01  9.588406e-01  0.991130  0.979638  0.939762  0.985962   \n",
      "gtt1               NaN           NaN       NaN       NaN       NaN       NaN   \n",
      "gtt2      9.827476e-01  9.811609e-01  0.990227  0.989278  0.966659  0.987369   \n",
      "hpp48     9.630581e-01  9.606126e-01  0.998900  0.995103  0.937460  0.998012   \n",
      "gtp1               NaN           NaN       NaN       NaN       NaN       NaN   \n",
      "gtp2      9.691129e-01  9.669746e-01  0.997582  0.996035  0.945938  0.996172   \n",
      "pexh      9.533607e-01  9.508128e-01  0.996046  0.994019  0.924231  0.996238   \n",
      "tic       9.136309e-01  9.100139e-01  0.977871  0.962341  0.879120  0.977468   \n",
      "mf        9.314219e-01  9.278150e-01  0.995082  0.980223  0.896959  0.994366   \n",
      "gtc_coef  2.264405e-15  6.346298e-16  0.002978  0.001370 -0.018838  0.000754   \n",
      "gtt_coef  8.566427e-17  9.367920e-18  0.000358 -0.000018  0.010000  0.000104   \n",
      "\n",
      "                tp     hpt48  gtt1      gtt2     hpp48  gtp1      gtp2  \\\n",
      "lp        0.959241  0.961242   NaN  0.982748  0.963058   NaN  0.969113   \n",
      "v         0.956371  0.958841   NaN  0.981161  0.960613   NaN  0.966975   \n",
      "gtt       0.999177  0.991130   NaN  0.990227  0.998900   NaN  0.997582   \n",
      "gtn       0.988625  0.979638   NaN  0.989278  0.995103   NaN  0.996035   \n",
      "ggn       0.929593  0.939762   NaN  0.966659  0.937460   NaN  0.945938   \n",
      "ts        1.000000  0.985962   NaN  0.987369  0.998012   NaN  0.996172   \n",
      "tp        1.000000  0.985962   NaN  0.987369  0.998012   NaN  0.996172   \n",
      "hpt48     0.985962  1.000000   NaN  0.992308  0.989383   NaN  0.990463   \n",
      "gtt1           NaN       NaN   NaN       NaN       NaN   NaN       NaN   \n",
      "gtt2      0.987369  0.992308   NaN  1.000000  0.991704   NaN  0.994373   \n",
      "hpp48     0.998012  0.989383   NaN  0.991704  1.000000   NaN  0.999401   \n",
      "gtp1           NaN       NaN   NaN       NaN       NaN   NaN       NaN   \n",
      "gtp2      0.996172  0.990463   NaN  0.994373  0.999401   NaN  1.000000   \n",
      "pexh      0.996238  0.980071   NaN  0.983461  0.997941   NaN  0.996339   \n",
      "tic       0.977468  0.969655   NaN  0.958711  0.975704   NaN  0.972109   \n",
      "mf        0.994366  0.986318   NaN  0.976453  0.992728   NaN  0.989260   \n",
      "gtc_coef  0.000754 -0.039625   NaN -0.047177  0.008168   NaN  0.008328   \n",
      "gtt_coef  0.000104 -0.038464   NaN -0.016855 -0.002718   NaN -0.018303   \n",
      "\n",
      "              pexh       tic        mf      gtc_coef      gtt_coef  \n",
      "lp        0.953361  0.913631  0.931422  2.264405e-15  8.566427e-17  \n",
      "v         0.950813  0.910014  0.927815  6.346298e-16  9.367920e-18  \n",
      "gtt       0.996046  0.977871  0.995082  2.978258e-03  3.576383e-04  \n",
      "gtn       0.994019  0.962341  0.980223  1.369908e-03 -1.776556e-05  \n",
      "ggn       0.924231  0.879120  0.896959 -1.883800e-02  1.000011e-02  \n",
      "ts        0.996238  0.977468  0.994366  7.535000e-04  1.044235e-04  \n",
      "tp        0.996238  0.977468  0.994366  7.535000e-04  1.044235e-04  \n",
      "hpt48     0.980071  0.969655  0.986318 -3.962512e-02 -3.846390e-02  \n",
      "gtt1           NaN       NaN       NaN           NaN           NaN  \n",
      "gtt2      0.983461  0.958711  0.976453 -4.717657e-02 -1.685505e-02  \n",
      "hpp48     0.997941  0.975704  0.992728  8.167586e-03 -2.718186e-03  \n",
      "gtp1           NaN       NaN       NaN           NaN           NaN  \n",
      "gtp2      0.996339  0.972109  0.989260  8.327871e-03 -1.830336e-02  \n",
      "pexh      1.000000  0.974193  0.990981  3.528524e-02  1.179423e-02  \n",
      "tic       0.974193  1.000000  0.985544 -3.203662e-02 -1.887184e-02  \n",
      "mf        0.990981  0.985544  1.000000 -1.366765e-02 -1.732675e-02  \n",
      "gtc_coef  0.035285 -0.032037 -0.013668  1.000000e+00  4.064242e-14  \n",
      "gtt_coef  0.011794 -0.018872 -0.017327  4.064242e-14  1.000000e+00  \n"
     ]
    }
   ],
   "source": [
    "print(naval_prop_data.corr())"
   ]
  },
  {
   "cell_type": "code",
   "execution_count": 44,
   "id": "90428e46",
   "metadata": {},
   "outputs": [
    {
     "name": "stderr",
     "output_type": "stream",
     "text": [
      "/home/thiagosteps227/anaconda3/lib/python3.8/site-packages/pandas/plotting/_matplotlib/misc.py:89: UserWarning: Attempting to set identical left == right == 288.0 results in singular transformations; automatically expanding.\n",
      "  ax.set_xlim(boundaries_list[j])\n",
      "/home/thiagosteps227/anaconda3/lib/python3.8/site-packages/pandas/plotting/_matplotlib/misc.py:89: UserWarning: Attempting to set identical left == right == 0.998 results in singular transformations; automatically expanding.\n",
      "  ax.set_xlim(boundaries_list[j])\n",
      "/home/thiagosteps227/anaconda3/lib/python3.8/site-packages/pandas/plotting/_matplotlib/misc.py:90: UserWarning: Attempting to set identical bottom == top == 288.0 results in singular transformations; automatically expanding.\n",
      "  ax.set_ylim(boundaries_list[i])\n",
      "/home/thiagosteps227/anaconda3/lib/python3.8/site-packages/pandas/plotting/_matplotlib/misc.py:80: UserWarning: Attempting to set identical left == right == 288.0 results in singular transformations; automatically expanding.\n",
      "  ax.set_xlim(boundaries_list[i])\n",
      "/home/thiagosteps227/anaconda3/lib/python3.8/site-packages/pandas/plotting/_matplotlib/misc.py:90: UserWarning: Attempting to set identical bottom == top == 0.998 results in singular transformations; automatically expanding.\n",
      "  ax.set_ylim(boundaries_list[i])\n",
      "/home/thiagosteps227/anaconda3/lib/python3.8/site-packages/pandas/plotting/_matplotlib/misc.py:80: UserWarning: Attempting to set identical left == right == 0.998 results in singular transformations; automatically expanding.\n",
      "  ax.set_xlim(boundaries_list[i])\n"
     ]
    },
    {
     "data": {
      "image/png": "[encoded data removed]",
      "text/plain": [
       "<Figure size 432x288 with 324 Axes>"
      ]
     },
     "metadata": {
      "needs_background": "light"
     },
     "output_type": "display_data"
    }
   ],
   "source": [
    "scatter_matrix(naval_prop_data)\n",
    "plt.show()"
   ]
  },
  {
   "cell_type": "code",
   "execution_count": 61,
   "id": "9dab919b",
   "metadata": {},
   "outputs": [
    {
     "name": "stdout",
     "output_type": "stream",
     "text": [
      "intercept: 1.538124277824783\n",
      "slope: [ 2.61066533e-01 -7.65657612e-02 -5.18451411e-07 -2.98162882e-05\n",
      "  3.08454373e-05 -5.56089310e-04 -5.56089310e-04  5.58837974e-06\n",
      "  9.22872889e-16 -3.39841394e-03  1.90057330e-01  5.55111512e-17\n",
      "  1.38125512e-02  7.47301508e-01 -7.27840722e-04  2.17861082e-01]\n"
     ]
    }
   ],
   "source": [
    "X = naval_prop_data[['lp', 'v', 'gtt','gtn','ggn','ts','tp','hpt48','gtt1','gtt2','hpp48','gtp1','gtp2','pexh','tic','mf']]\n",
    "y = naval_prop_data['gtc_coef']\n",
    "model = LinearRegression()\n",
    "model.fit(X, y)\n",
    "print('intercept:', model.intercept_)\n",
    "print('slope:', model.coef_)"
   ]
  },
  {
   "cell_type": "code",
   "execution_count": 62,
   "id": "062142ed",
   "metadata": {},
   "outputs": [
    {
     "name": "stdout",
     "output_type": "stream",
     "text": [
      "[0.95883396 0.95511192 0.96064913 ... 1.00512741 0.99854733 1.00156881]\n"
     ]
    }
   ],
   "source": [
    "y_predicted = model.predict(X)\n",
    "print(y_predicted)"
   ]
  },
  {
   "cell_type": "code",
   "execution_count": 63,
   "id": "cfe17373",
   "metadata": {},
   "outputs": [
    {
     "name": "stdout",
     "output_type": "stream",
     "text": [
      "Root mean squared error:  3.4008328197357526e-05\n",
      "R2 score:  0.8430384852429655\n"
     ]
    }
   ],
   "source": [
    "rmse = mean_squared_error(y, y_predicted)\n",
    "r2 = r2_score(y, y_predicted)\n",
    "\n",
    "print('Root mean squared error: ', rmse)\n",
    "print('R2 score: ', r2)"
   ]
  },
  {
   "cell_type": "code",
   "execution_count": 64,
   "id": "b4c6f8c1",
   "metadata": {},
   "outputs": [
    {
     "name": "stdout",
     "output_type": "stream",
     "text": [
      "                            OLS Regression Results                            \n",
      "==============================================================================\n",
      "Dep. Variable:               gtc_coef   R-squared:                       0.843\n",
      "Model:                            OLS   Adj. R-squared:                  0.843\n",
      "Method:                 Least Squares   F-statistic:                     4925.\n",
      "Date:                Tue, 26 Oct 2021   Prob (F-statistic):               0.00\n",
      "Time:                        12:02:15   Log-Likelihood:                 44460.\n",
      "No. Observations:               11934   AIC:                        -8.889e+04\n",
      "Df Residuals:                   11920   BIC:                        -8.879e+04\n",
      "Df Model:                          13                                         \n",
      "Covariance Type:            nonrobust                                         \n",
      "==============================================================================\n",
      "                 coef    std err          t      P>|t|      [0.025      0.975]\n",
      "------------------------------------------------------------------------------\n",
      "lp             0.2611      0.004     62.439      0.000       0.253       0.269\n",
      "v             -0.0766      0.001    -58.626      0.000      -0.079      -0.074\n",
      "gtt        -5.185e-07   3.33e-07     -1.558      0.119   -1.17e-06    1.34e-07\n",
      "gtn        -2.982e-05   2.76e-06    -10.817      0.000   -3.52e-05   -2.44e-05\n",
      "ggn         3.085e-05   8.09e-07     38.119      0.000    2.93e-05    3.24e-05\n",
      "ts            -0.0006   1.46e-05    -37.991      0.000      -0.001      -0.001\n",
      "tp            -0.0006   1.46e-05    -37.991      0.000      -0.001      -0.001\n",
      "hpt48       5.588e-06   1.83e-05      0.306      0.760   -3.02e-05    4.14e-05\n",
      "gtt1           0.0053      0.001      8.201      0.000       0.004       0.007\n",
      "gtt2          -0.0034   2.89e-05   -117.581      0.000      -0.003      -0.003\n",
      "hpp48          0.1901      0.009     21.678      0.000       0.173       0.207\n",
      "gtp1        1.851e-05   2.26e-06      8.201      0.000    1.41e-05    2.29e-05\n",
      "gtp2           0.0138      0.001     17.716      0.000       0.012       0.015\n",
      "pexh           0.7473      0.184      4.060      0.000       0.386       1.108\n",
      "tic           -0.0007   1.66e-05    -43.814      0.000      -0.001      -0.001\n",
      "mf             0.2179      0.011     19.501      0.000       0.196       0.240\n",
      "==============================================================================\n",
      "Omnibus:                       73.086   Durbin-Watson:                   1.551\n",
      "Prob(Omnibus):                  0.000   Jarque-Bera (JB):               90.830\n",
      "Skew:                          -0.113   Prob(JB):                     1.89e-20\n",
      "Kurtosis:                       3.363   Cond. No.                     3.50e+19\n",
      "==============================================================================\n",
      "\n",
      "Notes:\n",
      "[1] Standard Errors assume that the covariance matrix of the errors is correctly specified.\n",
      "[2] The smallest eigenvalue is 1.25e-26. This might indicate that there are\n",
      "strong multicollinearity problems or that the design matrix is singular.\n"
     ]
    }
   ],
   "source": [
    "X2 = sm.add_constant(X)\n",
    "est = sm.OLS(y, X2)\n",
    "est2 = est.fit()\n",
    "print(est2.summary())"
   ]
  },
  {
   "cell_type": "code",
   "execution_count": 65,
   "id": "d3f4af80",
   "metadata": {},
   "outputs": [
    {
     "data": {
      "image/png": "[encoded data removed]",
      "text/plain": [
       "<Figure size 432x288 with 1 Axes>"
      ]
     },
     "metadata": {
      "needs_background": "light"
     },
     "output_type": "display_data"
    }
   ],
   "source": [
    "plt.plot(X, y_predicted, color='b')\n",
    "# plt.plot(x, y, color='b')\n",
    "plt.show()"
   ]
  },
  {
   "cell_type": "code",
   "execution_count": null,
   "id": "ea3a068a",
   "metadata": {},
   "outputs": [],
   "source": []
  }
 ],
 "metadata": {
  "kernelspec": {
   "display_name": "Python 3 (ipykernel)",
   "language": "python",
   "name": "python3"
  },
  "language_info": {
   "codemirror_mode": {
    "name": "ipython",
    "version": 3
   },
   "file_extension": ".py",
   "mimetype": "text/x-python",
   "name": "python",
   "nbconvert_exporter": "python",
   "pygments_lexer": "ipython3",
   "version": "3.8.8"
  }
 },
 "nbformat": 4,
 "nbformat_minor": 5
}
