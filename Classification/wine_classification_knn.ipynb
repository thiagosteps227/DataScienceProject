{
 "cells": [
  {
   "cell_type": "code",
   "execution_count": 20,
   "id": "6c08b830",
   "metadata": {},
   "outputs": [],
   "source": [
    "import numpy as np\n",
    "import pandas as pd\n",
    "from sklearn import neighbors\n",
    "from sklearn.model_selection import train_test_split\n",
    "from sklearn.metrics import confusion_matrix\n",
    "\n",
    "df = pd.read_csv('data/winequality-red.csv')\n",
    "#print(df)"
   ]
  },
  {
   "cell_type": "code",
   "execution_count": 21,
   "id": "20a177fa",
   "metadata": {},
   "outputs": [],
   "source": [
    "def isTasty(quality):\n",
    "    if quality >= 7:\n",
    "        return 'Excellent'\n",
    "    elif quality >= 5:\n",
    "        return 'Medium'\n",
    "    else:\n",
    "        return 'Not good'"
   ]
  },
  {
   "cell_type": "code",
   "execution_count": 22,
   "id": "bec0a8c3",
   "metadata": {},
   "outputs": [],
   "source": [
    "df['tasty'] = df['quality'].apply(isTasty)"
   ]
  },
  {
   "cell_type": "code",
   "execution_count": 23,
   "id": "c27a249b",
   "metadata": {},
   "outputs": [
    {
     "data": {
      "text/plain": [
       "Index(['fixed acidity', 'volatile acidity', 'citric acid', 'residual sugar',\n",
       "       'chlorides', 'free sulfur dioxide', 'total sulfur dioxide', 'density',\n",
       "       'pH', 'sulphates', 'alcohol', 'quality', 'tasty'],\n",
       "      dtype='object')"
      ]
     },
     "execution_count": 23,
     "metadata": {},
     "output_type": "execute_result"
    }
   ],
   "source": [
    "df.columns"
   ]
  },
  {
   "cell_type": "code",
   "execution_count": 24,
   "id": "28888f37",
   "metadata": {},
   "outputs": [
    {
     "data": {
      "text/plain": [
       "Medium       1319\n",
       "Excellent     217\n",
       "Not good       63\n",
       "Name: tasty, dtype: int64"
      ]
     },
     "execution_count": 24,
     "metadata": {},
     "output_type": "execute_result"
    }
   ],
   "source": [
    "df['tasty'].value_counts()"
   ]
  },
  {
   "cell_type": "code",
   "execution_count": 32,
   "id": "e335325f",
   "metadata": {},
   "outputs": [
    {
     "data": {
      "text/plain": [
       "KNeighborsClassifier()"
      ]
     },
     "execution_count": 32,
     "metadata": {},
     "output_type": "execute_result"
    }
   ],
   "source": [
    "X = np.array(df.drop(['quality', 'tasty'], 1))\n",
    "y = np.array(df['tasty'])\n",
    "\n",
    "X_train, X_test, y_train, y_test = train_test_split(X, y, test_size=0.2, random_state=5)\n",
    "\n",
    "clf = neighbors.KNeighborsClassifier()\n",
    "\n",
    "clf.fit(X_train, y_train)"
   ]
  },
  {
   "cell_type": "code",
   "execution_count": 33,
   "id": "569ae4a5",
   "metadata": {},
   "outputs": [
    {
     "name": "stdout",
     "output_type": "stream",
     "text": [
      "Accuracy 0.825\n"
     ]
    }
   ],
   "source": [
    "print('Accuracy', clf.score(X_test, y_test))"
   ]
  },
  {
   "cell_type": "code",
   "execution_count": 34,
   "id": "73bc7d2c",
   "metadata": {},
   "outputs": [
    {
     "name": "stdout",
     "output_type": "stream",
     "text": [
      "[[ 11  35   0]\n",
      " [ 13 253   1]\n",
      " [  0   7   0]]\n"
     ]
    }
   ],
   "source": [
    "yPredict = clf.predict(X_test)\n",
    "\n",
    "cm = confusion_matrix(y_test, yPredict, labels=['Excellent','Medium','Not good'])\n",
    "\n",
    "#tn, fp, fn, tp = cm.ravel()\n",
    "\n",
    "print(cm)\n",
    "\n",
    "#print(tn, fp, fn, tp)\n",
    "\n",
    "#print( (tn + tp) / (tn + tp + fn + fp) )"
   ]
  },
  {
   "cell_type": "code",
   "execution_count": null,
   "id": "51999b34",
   "metadata": {
    "collapsed": true
   },
   "outputs": [],
   "source": []
  },
  {
   "cell_type": "code",
   "execution_count": null,
   "id": "100719dd",
   "metadata": {},
   "outputs": [],
   "source": []
  }
 ],
 "metadata": {
  "kernelspec": {
   "display_name": "Python 3 (ipykernel)",
   "language": "python",
   "name": "python3"
  },
  "language_info": {
   "codemirror_mode": {
    "name": "ipython",
    "version": 3
   },
   "file_extension": ".py",
   "mimetype": "text/x-python",
   "name": "python",
   "nbconvert_exporter": "python",
   "pygments_lexer": "ipython3",
   "version": "3.8.8"
  }
 },
 "nbformat": 4,
 "nbformat_minor": 5
}
